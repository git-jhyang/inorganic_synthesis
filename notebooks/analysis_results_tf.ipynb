{
 "cells": [
  {
   "cell_type": "code",
   "execution_count": 1,
   "metadata": {},
   "outputs": [],
   "source": [
    "import os, sys\n",
    "\n",
    "import os, pickle, sys, gzip\n",
    "import numpy as np\n",
    "import matplotlib.pyplot as plt\n",
    "import matplotlib as mpl\n",
    "from pymatgen.core import Element\n",
    "\n",
    "sys.path.append('..')\n",
    "from src.feature import EOS_LABEL, SOS_LABEL, composition_to_feature\n",
    "from src.utils import composit_parser\n",
    "\n",
    "viridis = mpl.cm.viridis\n",
    "viridis.set_under([0.7, 0.7, 0.7])\n",
    "blues = mpl.cm.Blues\n",
    "blues.set_under([0.7, 0.7, 0.7])"
   ]
  },
  {
   "cell_type": "code",
   "execution_count": 23,
   "metadata": {},
   "outputs": [],
   "source": [
    "root = '/home/jhyang/WORKSPACES/MODELS/isyn/tfdec/crxn'\n",
    "for desc in os.listdir(root):\n",
    "    feat = desc.split('_')[0]\n",
    "    for ds in ['valid','test']:\n",
    "        with open(os.path.join(root, desc, f'output.{ds}.pkl'),'rb') as f:\n",
    "            output = pickle.load(f)\n",
    "        pred = np.sort(output['pred'].argmax(-1), axis=1) \n",
    "        label = np.sort(output['label'], axis=1)\n",
    "        n, s = pred.shape\n",
    "        mask = np.hstack([np.ones((n, 1), dtype=bool), label[:, :-1] != EOS_LABEL]).reshape(-1)\n",
    "        for p, l, m in zip(pred, label, mask):\n",
    "            p == l\n",
    "        "
   ]
  },
  {
   "cell_type": "code",
   "execution_count": 42,
   "metadata": {},
   "outputs": [
    {
     "data": {
      "text/plain": [
       "(array([  0,  11,  36, 444, 444, 444, 444]),\n",
       " array([ 15,  36,  68, 163, 444, 444, 444]))"
      ]
     },
     "execution_count": 42,
     "metadata": {},
     "output_type": "execute_result"
    }
   ],
   "source": [
    "for p, l, m in zip(pred, label, mask):\n",
    "    p == l\n",
    "p == l\n",
    "p, l\n"
   ]
  },
  {
   "cell_type": "code",
   "execution_count": 43,
   "metadata": {},
   "outputs": [
    {
     "data": {
      "text/plain": [
       "{'id': 33694,\n",
       " 'id_urxn': 26876,\n",
       " 'count': 1,\n",
       " 'doi': '10.1149/2.1731713jes',\n",
       " 'year': 2017,\n",
       " 'year_doc': 2017,\n",
       " 'feat_type': 'elemnet',\n",
       " 'precursor_comps': [{'Rb': 0.33333334, 'C': 0.16666667, 'O': 0.5},\n",
       "  {'Li': 0.33333334, 'H': 0.33333334, 'O': 0.33333334},\n",
       "  {'Mn': 0.33333334, 'O': 0.6666667},\n",
       "  {'Cr': 0.4, 'O': 0.6}],\n",
       " 'target_comp': {'Rb': 0.0125,\n",
       "  'Li': 0.305,\n",
       "  'Mn': 0.1325,\n",
       "  'Cr': 0.05,\n",
       "  'O': 0.5},\n",
       " 'heat_temp': 973.1500000000001}"
      ]
     },
     "execution_count": 43,
     "metadata": {},
     "output_type": "execute_result"
    }
   ],
   "source": [
    "output['info'][-1]"
   ]
  }
 ],
 "metadata": {
  "kernelspec": {
   "display_name": "isyn2",
   "language": "python",
   "name": "python3"
  },
  "language_info": {
   "codemirror_mode": {
    "name": "ipython",
    "version": 3
   },
   "file_extension": ".py",
   "mimetype": "text/x-python",
   "name": "python",
   "nbconvert_exporter": "python",
   "pygments_lexer": "ipython3",
   "version": "3.9.19"
  }
 },
 "nbformat": 4,
 "nbformat_minor": 2
}
