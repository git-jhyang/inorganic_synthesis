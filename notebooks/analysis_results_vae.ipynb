{
 "cells": [
  {
   "cell_type": "code",
   "execution_count": 36,
   "metadata": {},
   "outputs": [],
   "source": [
    "import os, pickle, time, gzip, sys\n",
    "sys.path.append('..')\n",
    "from src.feature import composition_to_feature\n",
    "import matplotlib.pyplot as plt\n",
    "import numpy as np\n",
    "from sklearn.metrics import f1_score, accuracy_score, recall_score, precision_score\n",
    "from pymatgen.core import Element\n",
    "from src.utils import composit_parser, MetalElements, LigandElements, ActiveElements\n",
    "\n",
    "with gzip.open('../data/unique_precursor.pkl.gz','rb') as f:\n",
    "    unique_precursor = pickle.load(f)"
   ]
  },
  {
   "cell_type": "markdown",
   "metadata": {},
   "source": [
    "# from VAE_test"
   ]
  },
  {
   "cell_type": "markdown",
   "metadata": {},
   "source": [
    "## classification"
   ]
  },
  {
   "cell_type": "code",
   "execution_count": 11,
   "metadata": {},
   "outputs": [],
   "source": [
    "root = '/home/jhyang/WORKSPACES/MODELS/isyn/VAE_test/cls'\n",
    "record = {}\n",
    "for dir in os.listdir(os.path.join(root)):\n",
    "    path = path = os.path.join(root, dir)\n",
    "    if len(os.listdir(path)) < 2:\n",
    "        continue\n",
    "#        [print(fn) for fn in os.listdir(path)]\n",
    "    model = dir.split('_')[0]\n",
    "    if model not in record.keys():\n",
    "        record[model] = []\n",
    "    record[model].append([])\n",
    "    for ds in ['valid','test']:\n",
    "        output = pickle.load(open(os.path.join(path, f'output.{ds}.pkl'), 'rb'))\n",
    "        pred, label = output['pred'].argmax(1), output['label']\n",
    "        f1i = f1_score(label, pred, average='micro')\n",
    "        f1a = f1_score(label, pred, average='macro')\n",
    "        record[model][-1].extend([f1i, f1a])\n",
    "        rxn = {}\n",
    "        for info, p, l in zip(output['info'], pred, label):\n",
    "            id = info['id']\n",
    "            if id not in rxn.keys():\n",
    "                rxn[id] = [[], []]\n",
    "            rxn[id][0].append(l)\n",
    "            rxn[id][1].append(p)\n",
    "        result = [np.sum((np.array(l) != np.array(p))) == 0 for l, p in rxn.values()]\n",
    "        record[model][-1].append(np.mean(result))"
   ]
  },
  {
   "cell_type": "code",
   "execution_count": 2,
   "metadata": {},
   "outputs": [
    {
     "name": "stdout",
     "output_type": "stream",
     "text": [
      "fcnn [0.92104923 0.50989267 0.79035127 0.91825583 0.54290925 0.7972456 ]\n",
      "attention [0.86742473 0.3551037  0.88083593 0.85613918 0.36042555 0.86036725]\n",
      "convolution [0.9191756  0.53919154 0.89862161 0.91914799 0.5585939  0.89977047]\n"
     ]
    }
   ],
   "source": [
    "record = pickle.load(open('../dump/vae_test_cls.pkl','rb'))\n",
    "for k,v in record.items():\n",
    "    j = np.array(v).T[0].argmax()\n",
    "    print(k, np.array(v)[j])\n",
    "#pickle.dump(record, open('../dump/vae_test_cls.pkl','wb'))"
   ]
  },
  {
   "cell_type": "markdown",
   "metadata": {},
   "source": [
    "## regression "
   ]
  },
  {
   "cell_type": "code",
   "execution_count": 121,
   "metadata": {},
   "outputs": [],
   "source": [
    "\n",
    "pstr_to_label = {p['precursor_str']:i for i, p in enumerate(unique_precursor)}\n",
    "legacy_active_elements = sorted(MetalElements + LigandElements, key=lambda x: Element(x).number)\n",
    "\n",
    "def legacy_composit_feature(comp):\n",
    "    v = np.zeros(len(legacy_active_elements))\n",
    "    div = np.sum(list(comp.values()))\n",
    "    for e, f in comp.items():\n",
    "        v[legacy_active_elements.index(e)] = f / div\n",
    "    return v\n",
    "\n",
    "ref = np.array([legacy_composit_feature(p['precursor_comp'], ) for p in unique_precursor])\n",
    "\n",
    "root = '/home/jhyang/WORKSPACES/MODELS/isyn/VAE_test/reg'\n",
    "record = {}\n",
    "for dir in os.listdir(os.path.join(root)):\n",
    "    path = path = os.path.join(root, dir)\n",
    "    if len(os.listdir(path)) < 2:\n",
    "        continue\n",
    "#        [print(fn) for fn in os.listdir(path)]\n",
    "    model = dir.split('_')[0]\n",
    "    if model not in record.keys():\n",
    "        record[model] = []\n",
    "    record[model].append([])\n",
    "    for ds in ['valid','test']:\n",
    "        output = pickle.load(open(os.path.join(path, f'output.{ds}.pkl'), 'rb'))\n",
    "        pred = np.square(ref[..., np.newaxis] - output['pred'].T[np.newaxis, ...]).sum(1).argmin(0)\n",
    "        if 'fcnn' in dir:\n",
    "            label = np.array([pstr_to_label[composit_parser(o['precursor_comp'])] for o in output['info']])\n",
    "        else:\n",
    "            label = [np.array([pstr_to_label[composit_parser(p)] for p in o['precursor_comp']]) for o in output['info']]\n",
    "\n",
    "        f1i = f1_score(np.hstack(label), pred, average='micro')\n",
    "        f1a = f1_score(np.hstack(label), pred, average='macro')\n",
    "        record[model][-1].extend([f1i, f1a])\n",
    "        if 'fcnn' in dir:\n",
    "            rxn = {}\n",
    "            for info, p, l in zip(output['info'], pred, label):\n",
    "                id = info['id']\n",
    "                if id not in rxn.keys():\n",
    "                    rxn[id] = [[], []]\n",
    "                rxn[id][0].append(l)\n",
    "                rxn[id][1].append(p)\n",
    "            result = [np.sum((np.array(l) != np.array(p))) == 0 for l, p in rxn.values()]\n",
    "            record[model][-1].append(np.mean(result))\n",
    "        else:\n",
    "            rxn = []\n",
    "            i = 0\n",
    "            for l in label:\n",
    "                j = i + len(l)\n",
    "                rxn.append(np.sum(l != pred[i:j]) == 0)\n",
    "                i = j\n",
    "            record[model][-1].append(np.mean(rxn)) "
   ]
  },
  {
   "cell_type": "code",
   "execution_count": 125,
   "metadata": {},
   "outputs": [
    {
     "name": "stdout",
     "output_type": "stream",
     "text": [
      "convolution [0.50064608 0.258432   0.2294353  0.45767815 0.27659369 0.1958684 ]\n",
      "attention [0. 0. 0. 0. 0. 0.]\n",
      "fcnn [0.05808244 0.01478776 0.00022232 0.06546225 0.01584401 0.        ]\n"
     ]
    }
   ],
   "source": [
    "for k,v in record.items():\n",
    "    j = np.array(v).T[0].argmax()\n",
    "    print(k, np.array(v)[j])\n"
   ]
  },
  {
   "cell_type": "markdown",
   "metadata": {},
   "source": [
    "# VAE_FCNN"
   ]
  },
  {
   "cell_type": "code",
   "execution_count": 27,
   "metadata": {},
   "outputs": [],
   "source": [
    "root = '/home/jhyang/WORKSPACES/MODELS/isyn/VAE_FCNN'\n",
    "record = {}\n",
    "outputs = {}\n",
    "for dir in os.listdir(os.path.join(root)):\n",
    "    path = path = os.path.join(root, dir)\n",
    "    if len(os.listdir(path)) < 2:\n",
    "        continue\n",
    "#        [print(fn) for fn in os.listdir(path)]\n",
    "    model = dir.split('_')[0]\n",
    "    if model not in record.keys():\n",
    "        record[model] = []\n",
    "    record[model].append([])\n",
    "    outputs[dir] = {}\n",
    "    for ds in ['valid','test']:\n",
    "        outputs[dir][ds] = pickle.load(open(os.path.join(path, f'best.output.{ds}.pkl'), 'rb'))"
   ]
  },
  {
   "cell_type": "code",
   "execution_count": 97,
   "metadata": {},
   "outputs": [],
   "source": [
    "def legacy_ligand_feat(comp):\n",
    "    v = np.zeros(len(LigandElements)+1)\n",
    "    for e, n in comp.items():\n",
    "        if e in MetalElements:\n",
    "            v[0] = 1\n",
    "        else:\n",
    "            v[LigandElements.index(e)+1] = 1\n",
    "    return v\n",
    "\n",
    "def ligand_feat_to_string(vecs):\n",
    "    strs = [''.join([f'{v:.0f}' for v in vec]) for vec in vecs]\n",
    "    return strs\n",
    "\n",
    "legacy_ligand_feat_ref = np.vstack([np.array(list(s)).astype(int) for s in np.unique([''.join([f'{n:.0f}' for n in legacy_ligand_feat(p['precursor_comp'])]) for p in unique_precursor])])\n",
    "legacy_ligand_label = ligand_feat_to_string(legacy_ligand_feat_ref)\n",
    "ligand_feat_str_to_label = {s:i for i,s in enumerate(legacy_ligand_label)}\n",
    "\n",
    "record = {}\n",
    "for dir, ds0 in outputs.items():\n",
    "    model = dir.split('_')[0]\n",
    "    if model not in record.keys():\n",
    "        record[model] = []\n",
    "    record[model].append([])\n",
    "    for ds, output in ds0.items():\n",
    "        pred = np.square(legacy_ligand_feat_ref[..., np.newaxis, ] - output['pred'].T[np.newaxis, ...]).sum(1).argmin(0)\n",
    "        label = np.array([ligand_feat_str_to_label[s] for s in ligand_feat_to_string(output['input'])])\n",
    "        f1 = f1_score(label, pred, average='micro')\n",
    "        record[model][-1].append(f1)\n",
    "        rxn = {}\n",
    "        for info, p, l in zip(output['info'], pred, label):\n",
    "            id = info['id']\n",
    "            if id not in rxn.keys():\n",
    "                rxn[id] = [[], []]\n",
    "            rxn[id][0].append(l)\n",
    "            rxn[id][1].append(p)\n",
    "        result = [np.sum((np.array(l) != np.array(p))) == 0 for l, p in rxn.values()]\n",
    "        record[model][-1].append(np.mean(result))"
   ]
  },
  {
   "cell_type": "code",
   "execution_count": 126,
   "metadata": {},
   "outputs": [
    {
     "name": "stdout",
     "output_type": "stream",
     "text": [
      "oliynyk [0.9066430693382214, 0.7661971830985915, 0.8990975318038491, 0.7648588410104011]\n",
      "mat2vec [0.906832690727514, 0.7666305525460455, 0.9014896161791889, 0.7685735512630015]\n",
      "magpie [0.9077175905442134, 0.7677139761646804, 0.8927911275415896, 0.7455423476968797]\n",
      "matscholar [0.9043044055369446, 0.7544962080173347, 0.8964879852125692, 0.7540861812778603]\n",
      "elemnet [0.9086656974906769, 0.7687973997833153, 0.899641187343699, 0.7663447251114414]\n",
      "megnet16 [0.9030402629416598, 0.7551462621885157, 0.8969229096444493, 0.7581723625557206]\n",
      "cgcnn [0.9049364768345869, 0.7562296858071506, 0.8971403718603893, 0.7611441307578009]\n",
      "active [0.9059477909108148, 0.7644637053087757, 0.901272153963249, 0.7719167904903418]\n"
     ]
    }
   ],
   "source": [
    "for k,v in record.items():\n",
    "    print(k, v[np.argmax(v, 0)[0]])"
   ]
  },
  {
   "cell_type": "markdown",
   "metadata": {},
   "source": [
    "# sequence"
   ]
  },
  {
   "cell_type": "markdown",
   "metadata": {},
   "source": [
    "## urxn_v0"
   ]
  },
  {
   "cell_type": "code",
   "execution_count": 175,
   "metadata": {},
   "outputs": [],
   "source": [
    "path = '/home/jhyang/WORKSPACES/MODELS/isyn/sequence/urxn_v0'\n",
    "record = {}\n",
    "for dir in os.listdir(path):\n",
    "    model = dir.split('_')[0]\n",
    "    if model not in record.keys():\n",
    "        record[model] = []\n",
    "    record[model].append([])\n",
    "    for ds in ['valid','test']:\n",
    "        output = pickle.load(open(os.path.join(path, dir, f'output.{ds}.pkl'),'rb'))\n",
    "        pred = output['pred'].argmax(-1)\n",
    "        label = output['label']\n",
    "        nd, sl = label.shape\n",
    "        mask = np.hstack([np.ones((nd, 1), dtype=bool), output['label'] != 444])[:, :sl]\n",
    "        record[model][-1].append(f1_score(label[mask], pred[mask], average='micro'))\n",
    "        result = []\n",
    "        for p, l, m in zip(pred, label, mask):\n",
    "            result.append(np.sum((p != l)[m]) == 0)\n",
    "        record[model][-1].append(np.mean(result))        "
   ]
  },
  {
   "cell_type": "code",
   "execution_count": 185,
   "metadata": {},
   "outputs": [
    {
     "name": "stdout",
     "output_type": "stream",
     "text": [
      "cgcnn [0.6023215608792294, 0.09020284851100561, 0.5461405363837355, 0.053276047261009665]\n",
      "oliynyk [0.5734255371696715, 0.0697022011221407, 0.5193694126694223, 0.04854994629430719]\n",
      "elemnet [0.5699184983946654, 0.06668105308588693, 0.5599826972988561, 0.06337271750805586]\n",
      "magpie [0.5599407261052112, 0.05826499784203712, 0.5419109872152263, 0.05198711063372718]\n",
      "composit [0.6252901951099037, 0.11696158826068191, 0.5686821109295396, 0.07733619763694952]\n",
      "megnet16 [0.5650284020745863, 0.061501942166594735, 0.5189849081995578, 0.04038668098818475]\n",
      "mat2vec [0.6079525808841689, 0.09775571860164005, 0.5552244544842834, 0.05413533834586466]\n",
      "matscholar [0.608150160533465, 0.09775571860164005, 0.5477266173219264, 0.06251342642320086]\n"
     ]
    }
   ],
   "source": [
    "for k,v in record.items():\n",
    "    print(k, v[np.argmax(v, 0)[0]])"
   ]
  },
  {
   "cell_type": "markdown",
   "metadata": {},
   "source": [
    "## urxn_lstm"
   ]
  },
  {
   "cell_type": "code",
   "execution_count": 186,
   "metadata": {},
   "outputs": [],
   "source": [
    "path = '/home/jhyang/WORKSPACES/MODELS/isyn/sequence/urxn_lstm'\n",
    "record = {}\n",
    "for dir in os.listdir(path):\n",
    "    model = dir.split('_')[0]\n",
    "    if model not in record.keys():\n",
    "        record[model] = []\n",
    "    record[model].append([])\n",
    "    for ds in ['valid','test']:\n",
    "        output = pickle.load(open(os.path.join(path, dir, f'output.{ds}.pkl'),'rb'))\n",
    "        pred = output['pred'].argmax(-1)\n",
    "        label = output['label']\n",
    "        nd, sl = label.shape\n",
    "        mask = np.hstack([np.ones((nd, 1), dtype=bool), output['label'] != 444])[:, :sl]\n",
    "        record[model][-1].append(f1_score(label[mask], pred[mask], average='micro'))\n",
    "        result = []\n",
    "        for p, l, m in zip(pred, label, mask):\n",
    "            result.append(np.sum((p != l)[m]) == 0)\n",
    "        record[model][-1].append(np.mean(result))        "
   ]
  },
  {
   "cell_type": "code",
   "execution_count": 187,
   "metadata": {},
   "outputs": [
    {
     "name": "stdout",
     "output_type": "stream",
     "text": [
      "lstm [0.8742832480424194, 0.39749676305567544, 0.8653981893509284, 0.3804511278195489]\n"
     ]
    }
   ],
   "source": [
    "for k,v in record.items():\n",
    "    print(k, v[np.argmax(v, 0)[0]])"
   ]
  },
  {
   "cell_type": "markdown",
   "metadata": {},
   "source": [
    "## urxn_transformer"
   ]
  },
  {
   "cell_type": "code",
   "execution_count": 188,
   "metadata": {},
   "outputs": [],
   "source": [
    "path = '/home/jhyang/WORKSPACES/MODELS/isyn/sequence/urxn_transformer'\n",
    "record = {}\n",
    "for dir in os.listdir(path):\n",
    "    model = dir.split('_')[0]\n",
    "    if model not in record.keys():\n",
    "        record[model] = []\n",
    "    record[model].append([])\n",
    "    for ds in ['valid','test']:\n",
    "        output = pickle.load(open(os.path.join(path, dir, f'output.{ds}.pkl'),'rb'))\n",
    "        pred = output['pred'].argmax(-1)\n",
    "        label = output['label']\n",
    "        nd, sl = label.shape\n",
    "        mask = np.hstack([np.ones((nd, 1), dtype=bool), output['label'] != 444])[:, :sl]\n",
    "        record[model][-1].append(f1_score(label[mask], pred[mask], average='micro'))\n",
    "        result = []\n",
    "        for p, l, m in zip(pred, label, mask):\n",
    "            result.append(np.sum((p != l)[m]) == 0)\n",
    "        record[model][-1].append(np.mean(result))        "
   ]
  },
  {
   "cell_type": "code",
   "execution_count": 189,
   "metadata": {},
   "outputs": [
    {
     "name": "stdout",
     "output_type": "stream",
     "text": [
      "transformer [0.8629693569270609, 0.3359948208890807, 0.8508516188430258, 0.3074113856068743]\n"
     ]
    }
   ],
   "source": [
    "for k,v in record.items():\n",
    "    print(k, v[np.argmax(v, 0)[0]])"
   ]
  },
  {
   "cell_type": "markdown",
   "metadata": {},
   "source": [
    "## crxn_v0"
   ]
  },
  {
   "cell_type": "code",
   "execution_count": 196,
   "metadata": {},
   "outputs": [],
   "source": [
    "path = '/home/jhyang/WORKSPACES/MODELS/isyn/sequence/crxn_v0'\n",
    "record = {}\n",
    "for dir in os.listdir(path):\n",
    "    model = dir.split('_')[0]\n",
    "    if model not in record.keys():\n",
    "        record[model] = []\n",
    "    record[model].append([])\n",
    "    for ds in ['valid','test']:\n",
    "        output = pickle.load(open(os.path.join(path, dir, f'output.{ds}.pkl'),'rb'))\n",
    "        pred = output['pred'].argmax(-1)\n",
    "        label = output['label']\n",
    "        nd, sl = label.shape\n",
    "        mask = np.hstack([np.ones((nd, 1), dtype=bool), output['label'] != 444])[:, :sl]\n",
    "        record[model][-1].append(f1_score(label[mask], pred[mask], average='micro'))\n",
    "        result = []\n",
    "        for p, l, m in zip(pred, label, mask):\n",
    "            result.append(np.sum((p != l)[m]) == 0)\n",
    "        record[model][-1].append(np.mean(result))"
   ]
  },
  {
   "cell_type": "code",
   "execution_count": 197,
   "metadata": {},
   "outputs": [
    {
     "name": "stdout",
     "output_type": "stream",
     "text": [
      "cgcnn [0.6084588644264195, 0.0997978777160182, 0.5341318757995116, 0.04311251314405889]\n",
      "magpie [0.5677288528389339, 0.06114199090449722, 0.5020351203628329, 0.029705573080967402]\n",
      "matscholar [0.6018539976825029, 0.09600808489135927, 0.5436097220607047, 0.04232386961093586]\n",
      "oliynyk [0.5692352259559675, 0.06114199090449722, 0.5437841609489475, 0.04363827549947424]\n",
      "elemnet [0.5721900347624566, 0.060384032339565435, 0.5450052331666473, 0.05783385909568875]\n",
      "megnet16 [0.5683082271147161, 0.060131379484588174, 0.5475636701942086, 0.047055730809674026]\n",
      "mat2vec [0.6097914252607184, 0.10409297625063163, 0.5466333294569136, 0.053364879074658256]\n",
      "composit [0.6184241019698725, 0.10864072764022234, 0.5593673682986394, 0.0628286014721346]\n"
     ]
    }
   ],
   "source": [
    "for k,v in record.items():\n",
    "    print(k, v[np.argmax(v, 0)[0]])"
   ]
  }
 ],
 "metadata": {
  "kernelspec": {
   "display_name": "isyn2",
   "language": "python",
   "name": "python3"
  },
  "language_info": {
   "codemirror_mode": {
    "name": "ipython",
    "version": 3
   },
   "file_extension": ".py",
   "mimetype": "text/x-python",
   "name": "python",
   "nbconvert_exporter": "python",
   "pygments_lexer": "ipython3",
   "version": "3.9.19"
  }
 },
 "nbformat": 4,
 "nbformat_minor": 2
}
