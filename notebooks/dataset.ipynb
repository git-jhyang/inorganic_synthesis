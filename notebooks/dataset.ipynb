{
 "cells": [
  {
   "cell_type": "code",
   "execution_count": null,
   "metadata": {},
   "outputs": [],
   "source": [
    "import torch\n",
    "\n",
    "\n",
    "class BaseDataset(torch.utils.data.Dataset):\n",
    "    def __init__(self):\n",
    "        super(BaseDataset, self).__init__()\n",
    "    \n",
    "\n",
    "class CompositionDataset(BaseDataset):\n",
    "    def __init__(self):\n",
    "        super(CompositionDataset, self).__init__()\n",
    "\n",
    "\n",
    "class FunctionalGroupDataset(BaseDataset):\n",
    "    def __init__(self):\n",
    "        super(FunctionalGroupDataset, self).__init__()\n",
    "        \n",
    "    "
   ]
  }
 ],
 "metadata": {
  "kernelspec": {
   "display_name": "isyn",
   "language": "python",
   "name": "python3"
  },
  "language_info": {
   "name": "python",
   "version": "3.9.18"
  }
 },
 "nbformat": 4,
 "nbformat_minor": 2
}
