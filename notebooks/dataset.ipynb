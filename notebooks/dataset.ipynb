{
 "cells": [
  {
   "cell_type": "code",
   "execution_count": 68,
   "metadata": {},
   "outputs": [],
   "source": [
    "import sys\n",
    "sys.path.append('../src')\n",
    "from data import BaseDataset, ConditionalData\n",
    "import numpy as np\n",
    "import gzip, pickle\n",
    "\n",
    "\n",
    "class ConditionalDataset(BaseDataset):\n",
    "    def __init__(self):\n",
    "        super(ConditionalDataset, self).__init__()\n",
    "\n",
    "    def from_data(self):\n",
    "        pass\n",
    "    \n",
    "    def from_file(self, data_path='../data/raw_data.pkl.gz'):\n",
    "        with gzip.open(data_path, 'rb') as f:\n",
    "            raw_dataset = pickle.load(f)\n",
    "            \n",
    "        for raw_data in raw_dataset:\n",
    "            for prec_comp in raw_data['precursor_comp']:\n",
    "                data = ConditionalData(raw_data, prec_comp)\n",
    "                self._data.append(data)\n",
    "                self._element.append(data.comp_feat != 0)\n",
    "        self._data = np.array(self._data)\n",
    "        self._year = np.array([d.year for d in self._data])\n",
    "        self._element = np.vstack(self._element)\n"
   ]
  },
  {
   "cell_type": "code",
   "execution_count": 66,
   "metadata": {},
   "outputs": [],
   "source": [
    "cd_all = CompositionDataset()\n",
    "cd_all.from_file()\n",
    "\n",
    "cd_tgt = CompositionDataset(include_precursor=False)\n",
    "cd_tgt.from_file()\n",
    "\n"
   ]
  }
 ],
 "metadata": {
  "kernelspec": {
   "display_name": "isyn",
   "language": "python",
   "name": "python3"
  },
  "language_info": {
   "codemirror_mode": {
    "name": "ipython",
    "version": 3
   },
   "file_extension": ".py",
   "mimetype": "text/x-python",
   "name": "python",
   "nbconvert_exporter": "python",
   "pygments_lexer": "ipython3",
   "version": "3.9.18"
  }
 },
 "nbformat": 4,
 "nbformat_minor": 2
}
