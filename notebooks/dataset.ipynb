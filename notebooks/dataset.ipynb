{
 "cells": [
  {
   "cell_type": "code",
   "execution_count": 1,
   "metadata": {},
   "outputs": [],
   "source": [
    "import sys, os, json, pickle, gzip\n",
    "sys.path.append('..')\n",
    "#from src.data import BaseDataset, ConditionalData\n",
    "import numpy as np\n",
    "import gzip, pickle\n",
    "from src.utils import SortedAllElements, Element"
   ]
  },
  {
   "cell_type": "markdown",
   "metadata": {},
   "source": [
    "# ELMD"
   ]
  },
  {
   "cell_type": "code",
   "execution_count": 2,
   "metadata": {},
   "outputs": [],
   "source": [
    "with gzip.open('../data/unique_data.pkl.gz','rb') as f:\n",
    "    unique_data = pickle.load(f)\n",
    "target_elements = np.zeros(len(SortedAllElements))\n",
    "for data in unique_data:\n",
    "    for ele, frac in data['target_comp'].items():\n",
    "        target_elements[Element(ele).number] += data['count']\n",
    "target_em = target_elements.astype(bool)"
   ]
  },
  {
   "cell_type": "code",
   "execution_count": 49,
   "metadata": {},
   "outputs": [
    {
     "name": "stdout",
     "output_type": "stream",
     "text": [
      "atomic\n",
      "int 1 121\n",
      "[]\n",
      "['D', 'T', 'Uue']\n",
      "\n",
      "cgcnn\n",
      "list 91 100\n",
      "[]\n",
      "[]\n",
      "\n",
      "elemnet\n",
      "list 135 98\n",
      "[]\n",
      "[]\n",
      "\n",
      "jarvis\n",
      "list 438 82\n",
      "['Eu', 'Np', 'Pu', 'Am', 'Cm']\n",
      "[]\n",
      "\n",
      "jarvis_sc\n",
      "list 438 82\n",
      "['Eu', 'Np', 'Pu', 'Am', 'Cm']\n",
      "[]\n",
      "\n",
      "magpie\n",
      "list 21 97\n",
      "[]\n",
      "[]\n",
      "\n",
      "magpie_sc\n",
      "list 22 97\n",
      "[]\n",
      "[]\n",
      "\n",
      "mat2vec\n",
      "list 199 118\n",
      "[]\n",
      "[]\n",
      "\n",
      "matscholar\n",
      "list 200 103\n",
      "[]\n",
      "[]\n",
      "\n",
      "megnet16\n",
      "list 16 95\n",
      "['Am', 'Cm']\n",
      "['Null']\n",
      "\n",
      "mendeleev\n",
      "int 1 121\n",
      "[]\n",
      "['D', 'T', 'Uue']\n",
      "\n",
      "mod_petti\n",
      "int 1 121\n",
      "[]\n",
      "['D', 'T', 'Uue']\n",
      "\n",
      "oliynyk\n",
      "list 44 85\n",
      "['Np', 'Pu', 'Am', 'Cm']\n",
      "[]\n",
      "\n",
      "oliynyk_sc\n",
      "list 44 85\n",
      "['Np', 'Pu', 'Am', 'Cm']\n",
      "[]\n",
      "\n",
      "petti\n",
      "int 1 121\n",
      "[]\n",
      "['D', 'T', 'Uue']\n",
      "\n",
      "random_200\n",
      "list 200 82\n",
      "['Eu', 'Np', 'Pu', 'Am', 'Cm']\n",
      "[]\n",
      "\n"
     ]
    }
   ],
   "source": [
    "elmd = {}\n",
    "for fn in os.listdir('../src/elmd'):\n",
    "    if not fn.endswith('json'): continue\n",
    "    elmd[fn.split('.')[0]] = json.load(open(f'../src/elmd/{fn}'))\n",
    "\n",
    "for fn, data in sorted(elmd.items(), key=lambda x: x[0]):\n",
    "    dtype = []\n",
    "    dlen = []\n",
    "    print(fn)\n",
    "    ele_not_in_data = []\n",
    "    ele_not_in_table = []\n",
    "    for ele, feat in data.items():\n",
    "        dtype.append(str(type(feat)).split()[1].replace('>','').replace('\\'',''))\n",
    "        if isinstance(feat, (int, float)):\n",
    "            dlen.append(1)\n",
    "        else:\n",
    "            dlen.append(len(feat))\n",
    "        if ele not in SortedAllElements:\n",
    "            ele_not_in_table.append(ele)\n",
    "    for ele in np.array(SortedAllElements)[target_em][1:]:\n",
    "        if ele not in data.keys():\n",
    "            ele_not_in_data.append(ele)\n",
    "    print(dtype[0], dlen[0], len(dtype))\n",
    "    print(ele_not_in_data)\n",
    "    print(ele_not_in_table)\n",
    "    print()\n",
    "    "
   ]
  },
  {
   "cell_type": "code",
   "execution_count": 6,
   "metadata": {},
   "outputs": [
    {
     "data": {
      "text/plain": [
       "array([6.40000000e+01, 2.27744790e+01, 4.77218000e+02, 1.16000000e+01,\n",
       "       2.40000000e+00, 9.04000000e+01, 2.63600000e+00, 1.80000000e+00,\n",
       "       2.40000000e+00, 1.40000000e+00, 0.00000000e+00, 5.60000000e+00,\n",
       "       2.00000000e-01, 1.20000000e+00, 6.00000000e-01, 0.00000000e+00,\n",
       "       2.00000000e+00, 1.08306667e+01, 0.00000000e+00, 3.09694240e-01,\n",
       "       9.18000000e+01])"
      ]
     },
     "execution_count": 6,
     "metadata": {},
     "output_type": "execute_result"
    }
   ],
   "source": [
    "from src.feature import composition_to_feature\n",
    "\n",
    "composition_to_feature({'Li':0.2, 'Co':0.2, 'O':0.6}, feature_type='magpie')"
   ]
  }
 ],
 "metadata": {
  "kernelspec": {
   "display_name": "isyn",
   "language": "python",
   "name": "python3"
  },
  "language_info": {
   "codemirror_mode": {
    "name": "ipython",
    "version": 3
   },
   "file_extension": ".py",
   "mimetype": "text/x-python",
   "name": "python",
   "nbconvert_exporter": "python",
   "pygments_lexer": "ipython3",
   "version": "3.9.18"
  }
 },
 "nbformat": 4,
 "nbformat_minor": 2
}
