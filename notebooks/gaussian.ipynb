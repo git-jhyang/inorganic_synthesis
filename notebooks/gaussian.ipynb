{
 "cells": [
  {
   "cell_type": "code",
   "execution_count": 1,
   "metadata": {},
   "outputs": [],
   "source": [
    "import sys, os, json, pickle, gzip, copy, torch, numbers, tqdm\n",
    "sys.path.append('..')\n",
    "import numpy as np\n",
    "import matplotlib.pyplot as plt\n",
    "import matplotlib as mpl\n",
    "\n",
    "from src.utils import ActiveElements, MetalElements, Element, AllElements\n",
    "from src.utils import composit_parser\n",
    "from src.feature import composition_to_feature\n",
    "\n",
    "from pymatgen.core import Composition, Element\n",
    "\n",
    "from scipy.stats import gaussian_kde\n",
    "from sklearn.metrics import confusion_matrix, f1_score, accuracy_score, precision_score, recall_score\n",
    "from sklearn.preprocessing import LabelEncoder\n",
    "\n",
    "from torch.utils.data import DataLoader\n",
    "from torch.utils.data.sampler import SubsetRandomSampler\n",
    "from torch.optim.lr_scheduler import StepLR"
   ]
  },
  {
   "cell_type": "code",
   "execution_count": 2,
   "metadata": {},
   "outputs": [],
   "source": [
    "from src.data import ReactionGraphDataset, ReactionDataset\n",
    "from src.networks import GraphCVAE, CVAE, GraphConvolutionBlock, GraphAttentionBlock\n",
    "from src.trainer import VAETrainer, BaseTrainer\n",
    "\n",
    "GDSM = ReactionGraphDataset(feat_type='cgcnn')\n",
    "GDSM.from_file('../data/screened_conditional_reaction.pkl.gz', \n",
    "               heat_temp_key=('heat_temp','median'))\n"
   ]
  },
  {
   "cell_type": "code",
   "execution_count": 6,
   "metadata": {},
   "outputs": [],
   "source": [
    "rxn_id = []\n",
    "temp_1 = []\n",
    "temp_2 = []\n",
    "for i, data in enumerate(GDSM):\n",
    "    rxn_id.append([i] * data.n)\n",
    "    temp_1.append(data.condition_feat.repeat(data.n, 1))\n",
    "    temp_2.append(data.condition_feat)\n",
    "\n",
    "rxn_id = np.hstack(rxn_id)\n",
    "temp_1 = torch.vstack(temp_1)\n",
    "temp_2 = torch.vstack(temp_2)\n"
   ]
  },
  {
   "cell_type": "code",
   "execution_count": 7,
   "metadata": {},
   "outputs": [
    {
     "data": {
      "text/plain": [
       "(torch.Size([141043, 1]), torch.Size([35729, 1]), (141043,))"
      ]
     },
     "execution_count": 7,
     "metadata": {},
     "output_type": "execute_result"
    }
   ],
   "source": [
    "temp_1.shape, temp_2.shape, rxn_id.shape"
   ]
  },
  {
   "cell_type": "code",
   "execution_count": 18,
   "metadata": {},
   "outputs": [
    {
     "ename": "AttributeError",
     "evalue": "'GraphData' object has no attribute 'target_feat'",
     "output_type": "error",
     "traceback": [
      "\u001b[0;31m---------------------------------------------------------------------------\u001b[0m",
      "\u001b[0;31mAttributeError\u001b[0m                            Traceback (most recent call last)",
      "Cell \u001b[0;32mIn[18], line 1\u001b[0m\n\u001b[0;32m----> 1\u001b[0m \u001b[43mGDSM\u001b[49m\u001b[43m[\u001b[49m\u001b[38;5;241;43m0\u001b[39;49m\u001b[43m]\u001b[49m\u001b[38;5;241;43m.\u001b[39;49m\u001b[43mtarget_feat\u001b[49m\n",
      "\u001b[0;31mAttributeError\u001b[0m: 'GraphData' object has no attribute 'target_feat'"
     ]
    }
   ],
   "source": [
    "GDSM[0].target_feat"
   ]
  }
 ],
 "metadata": {
  "kernelspec": {
   "display_name": "isyn2",
   "language": "python",
   "name": "python3"
  },
  "language_info": {
   "codemirror_mode": {
    "name": "ipython",
    "version": 3
   },
   "file_extension": ".py",
   "mimetype": "text/x-python",
   "name": "python",
   "nbconvert_exporter": "python",
   "pygments_lexer": "ipython3",
   "version": "3.9.19"
  }
 },
 "nbformat": 4,
 "nbformat_minor": 2
}
