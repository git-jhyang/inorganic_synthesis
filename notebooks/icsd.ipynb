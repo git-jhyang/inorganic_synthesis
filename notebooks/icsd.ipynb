{
 "cells": [
  {
   "cell_type": "code",
   "execution_count": 5,
   "metadata": {},
   "outputs": [],
   "source": [
    "import os, json\n",
    "import numpy as np\n",
    "import matplotlib.pyplot as plt"
   ]
  },
  {
   "cell_type": "code",
   "execution_count": 13,
   "metadata": {},
   "outputs": [],
   "source": [
    "with open('../dump/icsd.txt') as f:\n",
    "    lines = f.read().split('\\n')\n",
    "\n",
    "contents = []\n",
    "for i, line in enumerate(lines):\n",
    "    if line == 'download item as cif file':\n",
    "        contents.append({\n",
    "            'sg':lines[i+1],\n",
    "            'comp':lines[i+2],\n",
    "            'title':lines[i+3],\n",
    "            'author':lines[i+4],\n",
    "            'journal':lines[i+5],\n",
    "            'year':lines[i+6],\n",
    "        })\n",
    "    else:\n",
    "        continue"
   ]
  },
  {
   "cell_type": "code",
   "execution_count": 55,
   "metadata": {},
   "outputs": [],
   "source": [
    "by_journal = {}\n",
    "for c in contents:\n",
    "    journal = c['journal'].split('(')[0]\n",
    "    if journal not in by_journal: by_journal[journal] = []\n",
    "    info = c['journal'].replace(journal,'')\n",
    "    by_journal[journal].append(info)\n",
    "import json\n",
    "with open('../dump/icsd_by_journal.json','w') as f:\n",
    "    json.dump(by_journal, f)\n",
    "#for k,v in sorted(by_journal.items(), key=lambda x: len(x[1]), reverse=True):\n",
    "#    print(k)\n",
    "#    for _v in sorted(v):\n",
    "#        print('\\t',_v)\n",
    "#    print()"
   ]
  },
  {
   "cell_type": "code",
   "execution_count": 54,
   "metadata": {},
   "outputs": [
    {
     "data": {
      "text/plain": [
       "[<matplotlib.axis.XTick at 0x76b924ad3a60>,\n",
       " <matplotlib.axis.XTick at 0x76b924ad3a30>,\n",
       " <matplotlib.axis.XTick at 0x76b924ad34f0>,\n",
       " <matplotlib.axis.XTick at 0x76b924a8d4c0>]"
      ]
     },
     "execution_count": 54,
     "metadata": {},
     "output_type": "execute_result"
    },
    {
     "data": {
      "image/png": "[encoded data removed]",
      "text/plain": [
       "<Figure size 500x500 with 1 Axes>"
      ]
     },
     "metadata": {},
     "output_type": "display_data"
    }
   ],
   "source": [
    "y, c = np.unique([int(c['year']) for c in contents], return_counts=True)\n",
    "f, ax = plt.subplots(1,1,figsize=(5, 5))\n",
    "bar = ax.bar(y, c, )\n",
    "ax.bar_label(bar)\n",
    "ax.set_xticks([2021, 2022, 2023, 2024])"
   ]
  },
  {
   "cell_type": "code",
   "execution_count": 58,
   "metadata": {},
   "outputs": [
    {
     "name": "stdout",
     "output_type": "stream",
     "text": [
      "Angewandte Chemie, International Edition  10 10\n",
      "Dalton Transactions  20 20\n",
      "Chemistry of Materials  27 30\n",
      "Materials Chemistry and Physics  3 4\n",
      "Inorganic Chemistry  35 36\n",
      "Zeitschrift fuer Anorganische und Allgemeine Chemie  10 10\n",
      "Mineralogical Magazine  6 6\n",
      "Journal of Alloys and Compounds  29 30\n",
      "American Mineralogist  9 10\n",
      "Journal of Solid State Chemistry  19 21\n",
      "Physics and Chemistry of Minerals  2 2\n",
      "Acta Crystallographica, Section B: Structural Science, Crystal Engineering and Materials  5 5\n",
      "Inorganic Chemistry Communications  1 1\n",
      "Minerals  6 7\n",
      "Journal of Superconductivity and Novel Magnetism  4 5\n",
      "Zeitschrift fuer Kristallographie - Crystalline Materials  5 6\n",
      "Physical Review Materials  3 7\n",
      "Crystals  2 2\n",
      "Science China Materials  1 1\n",
      "Journal of Magnetism and Magnetic Materials  2 2\n",
      "Crystal Growth & Design  1 1\n",
      "Physical Review B  4 5\n",
      "Ceramics International  1 2\n",
      "Advanced Functional Materials  1 1\n",
      "Journal of the American Chemical Society  8 10\n",
      "Acta Materialia  3 3\n",
      "Chemistry - A European Journal  3 3\n",
      "European Journal of Inorganic Chemistry  9 11\n",
      "Zeitschrift fuer Naturforschung, B: A Journal of Chemical Sciences  2 2\n",
      "Inorganic Chemistry Frontiers  2 2\n",
      "Journal of Materials Chemistry A: Materials for Energy and Sustainability  3 3\n",
      "Chemical Communications  2 2\n",
      "Journal of Materials Chemistry C: Materials for Optical and Electronic Devices  1 1\n",
      "Journal of Energetic Materials  1 1\n",
      "Advanced Optical Materials  1 1\n",
      "Canadian Mineralogist  1 1\n",
      "Journal of Physical Chemistry C  2 3\n",
      "Inorganica Chimica Acta  1 1\n",
      "European Journal of Mineralogy  1 1\n",
      "Journal of Materials Science  1 1\n",
      "Acta Crystallographica, Section E: Crystallographic Communications  1 1\n",
      "IUCrData  2 2\n",
      "Zeitschrift fuer Kristallographie - New Crystal Structures  1 1\n",
      "not published  1 1\n",
      "Molecules  1 1\n",
      "Polyhedron  1 1\n",
      "Journal of Physics and Chemistry of Solids  1 1\n",
      "Journal of Chemical Crystallography  1 1\n",
      "ACS Applied Energy Materials  1 1\n",
      "Journal of the Ceramic Society of Japan  1 1\n",
      "IUCrJ -International Union of Crystallography Journal  1 1\n",
      "Monatshefte fuer Chemie  1 1\n",
      "ACS Applied Materials & Interfaces  1 1\n",
      "Journal of Applied Physics  1 1\n"
     ]
    }
   ],
   "source": [
    "for k, v in by_journal.items():\n",
    "    print(k, len(np.unique(v)), len(v))"
   ]
  },
  {
   "cell_type": "code",
   "execution_count": 101,
   "metadata": {},
   "outputs": [],
   "source": [
    "import re\n",
    "year = re.compile(r'\\(2\\d{3}\\)')\n",
    "vol  = re.compile(r'\\(\\d\\)')\n",
    "\n",
    "f = open('../dump/journal_log.txt','w')\n",
    "for k, v in sorted(by_journal.items(), key=lambda x: len(x[1]), reverse=True):\n",
    "    y0 = '(2021)'\n",
    "    vs = []\n",
    "    f.write('\\n')\n",
    "    f.write(f'{k}\\n')\n",
    "    for _v in v:\n",
    "        match = vol.search(_v)\n",
    "        if match is None: \n",
    "            vs.append(_v)\n",
    "            continue\n",
    "        i = match.span()[0]\n",
    "        vs.append(_v[:i+1] + ' ' + _v[i+1:])\n",
    "    i = 0\n",
    "    for _v in sorted(vs):\n",
    "        y1 = year.findall(_v)[0]\n",
    "        if y1 != y0:\n",
    "            i = 0\n",
    "            f.write('\\n')\n",
    "        i += 1\n",
    "        f.write(f'\\t{i}\\t{_v}\\n')\n",
    "        y0 = y1"
   ]
  }
 ],
 "metadata": {
  "kernelspec": {
   "display_name": "isyn2",
   "language": "python",
   "name": "python3"
  },
  "language_info": {
   "codemirror_mode": {
    "name": "ipython",
    "version": 3
   },
   "file_extension": ".py",
   "mimetype": "text/x-python",
   "name": "python",
   "nbconvert_exporter": "python",
   "pygments_lexer": "ipython3",
   "version": "3.9.19"
  }
 },
 "nbformat": 4,
 "nbformat_minor": 2
}
