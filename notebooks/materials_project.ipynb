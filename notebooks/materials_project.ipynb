{
 "cells": [
  {
   "cell_type": "code",
   "execution_count": 8,
   "metadata": {},
   "outputs": [],
   "source": [
    "from mp_api.client import MPRester\n",
    "from monty.serialization import dumpfn, loadfn\n",
    "import matplotlib.pyplot as plt\n",
    "import matplotlib as mpl\n",
    "import numpy as np\n",
    "import json, os\n",
    "\n",
    "api_key = json.load(open(os.path.join(os.path.expanduser('~'), '.mp-credentials')))['api_key']"
   ]
  },
  {
   "cell_type": "code",
   "execution_count": null,
   "metadata": {},
   "outputs": [],
   "source": [
    "with MPRester(api_key) as mpr:\n",
    "    "
   ]
  },
  {
   "cell_type": "code",
   "execution_count": 50,
   "metadata": {},
   "outputs": [
    {
     "data": {
      "text/plain": [
       "b'{\\n  \"message\":\"No API key found in request\"\\n}'"
      ]
     },
     "execution_count": 50,
     "metadata": {},
     "output_type": "execute_result"
    }
   ],
   "source": [
    "import requests\n",
    "\n",
    "r = requests.get(f'https://api.materialsproject.org/materials/provenance/?deprecated=false&_per_page=5&_skip=0&_limit=5&_all_fields=true?api_key={api_key}')\n",
    "r.content"
   ]
  },
  {
   "cell_type": "code",
   "execution_count": 77,
   "metadata": {},
   "outputs": [
    {
     "data": {
      "application/vnd.jupyter.widget-view+json": {
       "model_id": "a552317f057e4156b280d781e67b5bd7",
       "version_major": 2,
       "version_minor": 0
      },
      "text/plain": [
       "Retrieving SummaryDoc documents:   0%|          | 0/48884 [00:00<?, ?it/s]"
      ]
     },
     "metadata": {},
     "output_type": "display_data"
    },
    {
     "name": "stderr",
     "output_type": "stream",
     "text": [
      "/home/jhyang/anaconda3/envs/isyn2/lib/python3.9/site-packages/mp_api/client/core/client.py:664: UserWarning: Use the 'fields' argument to select only fields of interest to speed up data retrieval for large queries. Choose from: ['builder_meta', 'nsites', 'elements', 'nelements', 'composition', 'composition_reduced', 'formula_pretty', 'formula_anonymous', 'chemsys', 'volume', 'density', 'density_atomic', 'symmetry', 'property_name', 'material_id', 'deprecated', 'deprecation_reasons', 'last_updated', 'origins', 'warnings', 'structure', 'task_ids', 'uncorrected_energy_per_atom', 'energy_per_atom', 'formation_energy_per_atom', 'energy_above_hull', 'is_stable', 'equilibrium_reaction_energy_per_atom', 'decomposes_to', 'xas', 'grain_boundaries', 'band_gap', 'cbm', 'vbm', 'efermi', 'is_gap_direct', 'is_metal', 'es_source_calc_id', 'bandstructure', 'dos', 'dos_energy_up', 'dos_energy_down', 'is_magnetic', 'ordering', 'total_magnetization', 'total_magnetization_normalized_vol', 'total_magnetization_normalized_formula_units', 'num_magnetic_sites', 'num_unique_magnetic_sites', 'types_of_magnetic_species', 'bulk_modulus', 'shear_modulus', 'universal_anisotropy', 'homogeneous_poisson', 'e_total', 'e_ionic', 'e_electronic', 'n', 'e_ij_max', 'weighted_surface_energy_EV_PER_ANG2', 'weighted_surface_energy', 'weighted_work_function', 'surface_anisotropy', 'shape_factor', 'has_reconstructed', 'possible_species', 'has_props', 'theoretical', 'database_IDs']\n",
      "  warnings.warn(\n"
     ]
    }
   ],
   "source": [
    "with MPRester(api_key) as mpr:\n",
    "    data = mpr.materials.summary.search(theoretical=False)"
   ]
  },
  {
   "cell_type": "code",
   "execution_count": 116,
   "metadata": {},
   "outputs": [],
   "source": [
    "from monty.serialization  import loadfn, dumpfn\n",
    "\n",
    "dumpfn(data, '/home/jhyang/WORKSPACES/DATA/crystal/mp_real.json.gz')"
   ]
  },
  {
   "cell_type": "code",
   "execution_count": 136,
   "metadata": {},
   "outputs": [
    {
     "data": {
      "text/plain": [
       "48884"
      ]
     },
     "execution_count": 136,
     "metadata": {},
     "output_type": "execute_result"
    }
   ],
   "source": [
    "mpids = [str(d.material_id) for d in data]\n",
    "len(mpids)"
   ]
  },
  {
   "cell_type": "code",
   "execution_count": 142,
   "metadata": {},
   "outputs": [
    {
     "name": "stdout",
     "output_type": "stream",
     "text": [
      "0\n"
     ]
    },
    {
     "data": {
      "application/vnd.jupyter.widget-view+json": {
       "model_id": "1d9e26b0555c4d61bcf55679ea4c7208",
       "version_major": 2,
       "version_minor": 0
      },
      "text/plain": [
       "Retrieving ProvenanceDoc documents:   0%|          | 0/2990 [00:00<?, ?it/s]"
      ]
     },
     "metadata": {},
     "output_type": "display_data"
    },
    {
     "name": "stdout",
     "output_type": "stream",
     "text": [
      "3000\n"
     ]
    },
    {
     "data": {
      "application/vnd.jupyter.widget-view+json": {
       "model_id": "2c719f4c941a4516993d79107f860604",
       "version_major": 2,
       "version_minor": 0
      },
      "text/plain": [
       "Retrieving ProvenanceDoc documents:   0%|          | 0/2982 [00:00<?, ?it/s]"
      ]
     },
     "metadata": {},
     "output_type": "display_data"
    },
    {
     "name": "stdout",
     "output_type": "stream",
     "text": [
      "6000\n"
     ]
    },
    {
     "data": {
      "application/vnd.jupyter.widget-view+json": {
       "model_id": "feeeec7c408b4e54bf2a116688bc9510",
       "version_major": 2,
       "version_minor": 0
      },
      "text/plain": [
       "Retrieving ProvenanceDoc documents:   0%|          | 0/2991 [00:00<?, ?it/s]"
      ]
     },
     "metadata": {},
     "output_type": "display_data"
    },
    {
     "name": "stdout",
     "output_type": "stream",
     "text": [
      "9000\n"
     ]
    },
    {
     "data": {
      "application/vnd.jupyter.widget-view+json": {
       "model_id": "b961963457ad447087031bb5a190cc9d",
       "version_major": 2,
       "version_minor": 0
      },
      "text/plain": [
       "Retrieving ProvenanceDoc documents:   0%|          | 0/2990 [00:00<?, ?it/s]"
      ]
     },
     "metadata": {},
     "output_type": "display_data"
    },
    {
     "name": "stdout",
     "output_type": "stream",
     "text": [
      "12000\n"
     ]
    },
    {
     "data": {
      "application/vnd.jupyter.widget-view+json": {
       "model_id": "7bb0867473764f0d87de8df9f22e5443",
       "version_major": 2,
       "version_minor": 0
      },
      "text/plain": [
       "Retrieving ProvenanceDoc documents:   0%|          | 0/2990 [00:00<?, ?it/s]"
      ]
     },
     "metadata": {},
     "output_type": "display_data"
    },
    {
     "name": "stdout",
     "output_type": "stream",
     "text": [
      "15000\n"
     ]
    },
    {
     "data": {
      "application/vnd.jupyter.widget-view+json": {
       "model_id": "fe40e235b61e44ae81636f5138a2bf92",
       "version_major": 2,
       "version_minor": 0
      },
      "text/plain": [
       "Retrieving ProvenanceDoc documents:   0%|          | 0/2986 [00:00<?, ?it/s]"
      ]
     },
     "metadata": {},
     "output_type": "display_data"
    },
    {
     "name": "stdout",
     "output_type": "stream",
     "text": [
      "18000\n"
     ]
    },
    {
     "data": {
      "application/vnd.jupyter.widget-view+json": {
       "model_id": "69729a031a37467eb5a6d785e86a24a9",
       "version_major": 2,
       "version_minor": 0
      },
      "text/plain": [
       "Retrieving ProvenanceDoc documents:   0%|          | 0/2989 [00:00<?, ?it/s]"
      ]
     },
     "metadata": {},
     "output_type": "display_data"
    },
    {
     "name": "stdout",
     "output_type": "stream",
     "text": [
      "21000\n"
     ]
    },
    {
     "data": {
      "application/vnd.jupyter.widget-view+json": {
       "model_id": "02c6c9795a1d44a4be85a76fe32d7a8e",
       "version_major": 2,
       "version_minor": 0
      },
      "text/plain": [
       "Retrieving ProvenanceDoc documents:   0%|          | 0/2984 [00:00<?, ?it/s]"
      ]
     },
     "metadata": {},
     "output_type": "display_data"
    },
    {
     "name": "stdout",
     "output_type": "stream",
     "text": [
      "24000\n"
     ]
    },
    {
     "data": {
      "application/vnd.jupyter.widget-view+json": {
       "model_id": "a8b5b285c5db411fbcbbe0bb3a57adb3",
       "version_major": 2,
       "version_minor": 0
      },
      "text/plain": [
       "Retrieving ProvenanceDoc documents:   0%|          | 0/2991 [00:00<?, ?it/s]"
      ]
     },
     "metadata": {},
     "output_type": "display_data"
    },
    {
     "name": "stdout",
     "output_type": "stream",
     "text": [
      "27000\n"
     ]
    },
    {
     "data": {
      "application/vnd.jupyter.widget-view+json": {
       "model_id": "98b83b97be1240ffb9a403becf4f7276",
       "version_major": 2,
       "version_minor": 0
      },
      "text/plain": [
       "Retrieving ProvenanceDoc documents:   0%|          | 0/2984 [00:00<?, ?it/s]"
      ]
     },
     "metadata": {},
     "output_type": "display_data"
    },
    {
     "name": "stdout",
     "output_type": "stream",
     "text": [
      "30000\n"
     ]
    },
    {
     "data": {
      "application/vnd.jupyter.widget-view+json": {
       "model_id": "8972e0c9d44e48669f41e76b7deb674e",
       "version_major": 2,
       "version_minor": 0
      },
      "text/plain": [
       "Retrieving ProvenanceDoc documents:   0%|          | 0/2988 [00:00<?, ?it/s]"
      ]
     },
     "metadata": {},
     "output_type": "display_data"
    },
    {
     "name": "stdout",
     "output_type": "stream",
     "text": [
      "33000\n"
     ]
    },
    {
     "data": {
      "application/vnd.jupyter.widget-view+json": {
       "model_id": "a9ddf7d730c64936a83f46a7516daf10",
       "version_major": 2,
       "version_minor": 0
      },
      "text/plain": [
       "Retrieving ProvenanceDoc documents:   0%|          | 0/2995 [00:00<?, ?it/s]"
      ]
     },
     "metadata": {},
     "output_type": "display_data"
    },
    {
     "name": "stdout",
     "output_type": "stream",
     "text": [
      "36000\n"
     ]
    },
    {
     "data": {
      "application/vnd.jupyter.widget-view+json": {
       "model_id": "32030fe11ca943479b40cc6d847293ab",
       "version_major": 2,
       "version_minor": 0
      },
      "text/plain": [
       "Retrieving ProvenanceDoc documents:   0%|          | 0/2994 [00:00<?, ?it/s]"
      ]
     },
     "metadata": {},
     "output_type": "display_data"
    },
    {
     "name": "stdout",
     "output_type": "stream",
     "text": [
      "39000\n"
     ]
    },
    {
     "data": {
      "application/vnd.jupyter.widget-view+json": {
       "model_id": "b31e42a91e204e88b3db71d99e121012",
       "version_major": 2,
       "version_minor": 0
      },
      "text/plain": [
       "Retrieving ProvenanceDoc documents:   0%|          | 0/2982 [00:00<?, ?it/s]"
      ]
     },
     "metadata": {},
     "output_type": "display_data"
    },
    {
     "name": "stdout",
     "output_type": "stream",
     "text": [
      "42000\n"
     ]
    },
    {
     "data": {
      "application/vnd.jupyter.widget-view+json": {
       "model_id": "751df6910fed49b7a93f716eb60fd7d8",
       "version_major": 2,
       "version_minor": 0
      },
      "text/plain": [
       "Retrieving ProvenanceDoc documents:   0%|          | 0/2987 [00:00<?, ?it/s]"
      ]
     },
     "metadata": {},
     "output_type": "display_data"
    },
    {
     "name": "stdout",
     "output_type": "stream",
     "text": [
      "45000\n"
     ]
    },
    {
     "data": {
      "application/vnd.jupyter.widget-view+json": {
       "model_id": "ae8cb119788f4111a432732646329797",
       "version_major": 2,
       "version_minor": 0
      },
      "text/plain": [
       "Retrieving ProvenanceDoc documents:   0%|          | 0/2992 [00:00<?, ?it/s]"
      ]
     },
     "metadata": {},
     "output_type": "display_data"
    },
    {
     "name": "stdout",
     "output_type": "stream",
     "text": [
      "48000\n"
     ]
    },
    {
     "data": {
      "application/vnd.jupyter.widget-view+json": {
       "model_id": "97c5e7ab9ab447d3a928af68f8571a4a",
       "version_major": 2,
       "version_minor": 0
      },
      "text/plain": [
       "Retrieving ProvenanceDoc documents:   0%|          | 0/882 [00:00<?, ?it/s]"
      ]
     },
     "metadata": {},
     "output_type": "display_data"
    }
   ],
   "source": [
    "pdata = []\n",
    "with MPRester(api_key) as mpr:\n",
    "    for i in range(0, len(mpids), 3000):\n",
    "        chunk = mpids[i:i+3000]\n",
    "        print(i)\n",
    "        pdata.extend(mpr.materials.provenance.search(chunk))"
   ]
  },
  {
   "cell_type": "code",
   "execution_count": 145,
   "metadata": {},
   "outputs": [],
   "source": [
    "dumpfn(pdata, '/home/jhyang/WORKSPACES/DATA/crystal/mp_real_prov.json.gz')"
   ]
  },
  {
   "cell_type": "code",
   "execution_count": 152,
   "metadata": {},
   "outputs": [
    {
     "name": "stdout",
     "output_type": "stream",
     "text": [
      "['@article{Farr1961,\\n    author = \"Farr, J.D. and Giorgi, A.L. and Bowman, M.G. and Money, R.K.\",\\n    title = \"The crystal structure of actinium metal and actinium hydride\",\\n    journal = \"Journal of Inorganic and Nuclear Chemistry\",\\n    year = \"1961\",\\n    volume = \"18\",\\n    pages = \"42-57\",\\n    ASTM_id = \"JINCAO\"\\n}\\n', '@article{Jain2013,\\nauthor = {Jain, Anubhav and Ong, Shyue Ping and Hautier, Geoffroy and Chen, Wei and Richards, William Davidson and Dacek, Stephen and Cholia, Shreyas and Gunter, Dan and Skinner, David and Ceder, Gerbrand and Persson, Kristin a.},\\ndoi = {10.1063/1.4812323},\\nissn = {2166532X},\\njournal = {APL Materials},\\nnumber = {1},\\npages = {011002},\\ntitle = {{The Materials Project: A materials genome approach to accelerating materials innovation}},\\nurl = {http://link.aip.org/link/AMPADS/v1/i1/p011002/s1\\\\&Agg=doi},\\nvolume = {1},\\nyear = {2013}\\n}\\n\\n@misc{MaterialsProject,\\ntitle = {{Materials Project}},\\nurl = {http://www.materialsproject.org}\\n}']\n"
     ]
    }
   ],
   "source": [
    "print(pdata[0].references)"
   ]
  },
  {
   "cell_type": "code",
   "execution_count": 178,
   "metadata": {},
   "outputs": [
    {
     "name": "stdout",
     "output_type": "stream",
     "text": [
      "{'freeform': 'Holmberg B., Persson K.:<i>Do complex cations Ag<sub>n</sub>X(n-1)+ exist in solid silver halide compounds?</i>. Acta Crystallographica, Section A: Crystal Physics, Diffraction, Theoretical and General Crystallography<b>31</b>(1975) S65a', 'ENTRYTYPE': 'misc', 'ID': 'sd_1503220'}\n",
      "{'freeform': 'Persson K., Holmberg B.:<i>The Crystal Structure of Ag<sub>2</sub>IF·H<sub>2</sub>O - A Compound Containing Ag<sub>2</sub><sup>2+</sup> Pairs</i>. Journal of Solid State Chemistry<b>42</b>(1982) 1-10', 'ENTRYTYPE': 'misc', 'ID': 'sd_1407842'}\n",
      "{'url': 'http://www.materialsproject.org', 'title': '{Materials Project}', 'ENTRYTYPE': 'misc', 'ID': 'MaterialsProject'}\n"
     ]
    }
   ],
   "source": [
    "import bibtexparser\n",
    "\n",
    "dat = pdata[3]\n",
    "obj = bibtexparser.loads('\\n'.join(dat.references))\n",
    "for entry in obj.entries:\n",
    "    if 'year' not in entry.keys() or 'title' not in entry.keys():\n",
    "        print(entry)\n",
    "comps = str(dat.composition_reduced)"
   ]
  },
  {
   "cell_type": "code",
   "execution_count": 222,
   "metadata": {},
   "outputs": [],
   "source": [
    "import re\n",
    "data_tree = {}\n",
    "year = re.compile(r'\\([12]\\d{3}\\)')\n",
    "\n",
    "for dat in pdata:\n",
    "    chem = str(dat.composition_reduced)\n",
    "    for ref in dat.references:\n",
    "        if 'Materials Project' in ref or 'Inorganic Crystal Structure Database' in ref:\n",
    "            continue\n",
    "        if 'freeform' in ref: \n",
    "            parsed = year.findall(s)\n",
    "            if len(parsed) == 0:\n",
    "                continue\n",
    "            y = int(parsed[0].replace(')','').replace('(',''))\n",
    "            if y not in data_tree.keys():\n",
    "                data_tree[y] = []\n",
    "            data_tree[y].append([ref, chem])\n",
    "            continue\n",
    "        if 'year' not in ref:\n",
    "            continue\n",
    "        obj = bibtexparser.loads(ref).entries[0]\n",
    "        try:\n",
    "            y = int(obj['year'])\n",
    "        except:\n",
    "            y = int(obj['astm_id'])\n",
    "        if y not in data_tree.keys():\n",
    "            data_tree[y] = []\n",
    "        data_tree[y].append([ref, chem])\n",
    "#    for entry in obj.entries:\n",
    "#        if 'title' in entry.keys() and entry['title'] in ['{Materials Project}', '{Inorganic Crystal Structure Database}']: continue\n",
    "#        if 'freeform' in entry.keys(): continue\n",
    "#        if 'year' not in entry.keys() or 'title' not in entry.keys():\n",
    "#            print(entry)\n"
   ]
  },
  {
   "cell_type": "code",
   "execution_count": 251,
   "metadata": {},
   "outputs": [
    {
     "data": {
      "text/plain": [
       "[<matplotlib.lines.Line2D at 0x798be81d7550>]"
      ]
     },
     "execution_count": 251,
     "metadata": {},
     "output_type": "execute_result"
    },
    {
     "data": {
      "image/png": "[encoded data removed]",
      "text/plain": [
       "<Figure size 1000x500 with 2 Axes>"
      ]
     },
     "metadata": {},
     "output_type": "display_data"
    }
   ],
   "source": [
    "years_, counts_ = np.array(sorted([(y, len(l)) for y,l in data_tree.items() if y > 1000], key=lambda x: x[0])).T\n",
    "f, axs = plt.subplots(2,1,figsize=(10,5), gridspec_kw={'height_ratios':[0.3, 1]})\n",
    "axs[0].bar(years_, counts_)\n",
    "axs[1].bar(years_, counts_)\n",
    "axs[0].set_ylim([10800, 12000])\n",
    "axs[1].set_ylim([0, 2200])\n",
    "axs[0].spines.bottom.set_visible(False)\n",
    "axs[0].set_xticks([])\n",
    "axs[1].spines.top.set_visible(False)\n",
    "f.subplots_adjust(hspace=0.05)\n",
    "d = .5  # proportion of vertical to horizontal extent of the slanted line\n",
    "kwargs = dict(marker=[(-1, -d), (1, d)], markersize=12,\n",
    "              linestyle=\"none\", color='k', mec='k', mew=1, clip_on=False)\n",
    "axs[0].plot([0, 1], [0, 0], transform=axs[0].transAxes, **kwargs)\n",
    "axs[1].plot([0, 1], [1, 1], transform=axs[1].transAxes, **kwargs)\n"
   ]
  },
  {
   "cell_type": "code",
   "execution_count": 231,
   "metadata": {},
   "outputs": [
    {
     "data": {
      "text/plain": [
       "array([    2,     3,     2,     9,     9,     2,    10,    14,    33,\n",
       "          58,    34,    33,    85,   101,    85,    79,    56,    61,\n",
       "          52,    72,   122,   103,   137,   107,   112,   100,    89,\n",
       "          39,    82,    81,    69,    35,    24,    44,   110,   124,\n",
       "         151,   154,   164,   202,   227,   308,   325,   371,   253,\n",
       "         378,   456,   526,   739,   659,   680,  1008,  1104,   972,\n",
       "        1100,  1071,  1229,  1153,  1006,  1112,  1168,  1160,   982,\n",
       "       11511,  1129,  1220,  1207,  1429,  1110,  1299,  1644,  1464,\n",
       "        1542,  1531,  1365,  1222,  1197,  1369,  1488,  1448,  1625,\n",
       "        1547,  1168,  1295,  1064,  1207,  1260,  1269,  1454,  1405,\n",
       "        1348,  1509,  1444,  1444,  1536,  1510,  1584,  1509,  1609,\n",
       "        1886,  1538,  1533,  1099,   480,     3,     5])"
      ]
     },
     "execution_count": 231,
     "metadata": {},
     "output_type": "execute_result"
    }
   ],
   "source": [
    "counts_"
   ]
  },
  {
   "cell_type": "code",
   "execution_count": 203,
   "metadata": {},
   "outputs": [],
   "source": [
    "data_tree"
   ]
  }
 ],
 "metadata": {
  "kernelspec": {
   "display_name": "isyn2",
   "language": "python",
   "name": "python3"
  },
  "language_info": {
   "codemirror_mode": {
    "name": "ipython",
    "version": 3
   },
   "file_extension": ".py",
   "mimetype": "text/x-python",
   "name": "python",
   "nbconvert_exporter": "python",
   "pygments_lexer": "ipython3",
   "version": "3.9.19"
  }
 },
 "nbformat": 4,
 "nbformat_minor": 2
}
