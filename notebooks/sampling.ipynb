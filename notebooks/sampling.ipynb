{
 "cells": [
  {
   "cell_type": "code",
   "execution_count": 5,
   "metadata": {},
   "outputs": [],
   "source": [
    "import sys\n",
    "sys.path.append('..')\n",
    "import os, pickle\n",
    "import torch\n",
    "import numpy as np\n",
    "from torch.utils.data import DataLoader\n",
    "from src.networks import GraphCVAE\n",
    "from src.data import ConditionDataset, ReactionDataset\n",
    "from src.trainer import VAEClassTrainer\n",
    "from src.feature import parse_feature\n",
    "from src.utils import squared_error, cosin_similarity, cyclical_kld_annealing\n",
    "from sklearn.metrics import accuracy_score, f1_score"
   ]
  },
  {
   "cell_type": "code",
   "execution_count": 33,
   "metadata": {},
   "outputs": [],
   "source": [
    "#DS_c = ConditionDataset(target_feat_type='active_composit',\n",
    "#                        precursor_feat_type='active_composit')\n",
    "#DS_c.from_file(data_path='../data/unique_reaction.pkl.gz')\n",
    "#DS_c.to('cpu')\n",
    "\n",
    "DS_r = ReactionDataset(target_feat_type='active_composit',\n",
    "                        precursor_feat_type='active_composit')\n",
    "DS_r.from_file(data_path='../data/unique_reaction.pkl.gz')\n",
    "DS_r.to('cpu')\n",
    "\n",
    "root_t = '/home/jhyang/WORKSPACES/MODELS/isyn/VAE_test'\n",
    "\n",
    "#model_fcnn = ClassCVAE(42, 16, 8, 200)\n",
    "#model_gnn  = GraphClassCVAE()\n",
    "#model.load(root_t + '/cls/fcnn_active_composit_batch_0128_mdim_32_128_4', 'model')"
   ]
  },
  {
   "cell_type": "code",
   "execution_count": 47,
   "metadata": {},
   "outputs": [],
   "source": [
    "years = np.array([d.year for d in DS_r])\n",
    "test_mask = years > 2018\n",
    "train_mask = years < 2017\n",
    "valid_mask = ~train_mask & ~test_mask\n",
    "\n",
    "from torch.utils.data.sampler import SubsetRandomSampler\n",
    "train_dl = DataLoader(DS_r, batch_size=256, sampler=SubsetRandomSampler(np.where(train_mask)[0]), collate_fn=DS_r.cfn)"
   ]
  },
  {
   "cell_type": "code",
   "execution_count": 46,
   "metadata": {},
   "outputs": [],
   "source": [
    "model_gnn = GraphCVAE(input_dim = DS_r.num_precursor_feat, \n",
    "                      edge_dim = DS_r.num_target_feat,\n",
    "                      latent_dim = 32, \n",
    "                      output_dim = DS_r.num_class,\n",
    "                      condition_dim = DS_r.num_metal_feat,\n",
    "                      graph = 'conv',\n",
    "                      encoder_hidden_dim = 64, \n",
    "                      encoder_hidden_layers = 4, \n",
    "                      decoder_hidden_dim = 64, \n",
    "                      decoder_hidden_layers = 4,\n",
    ")"
   ]
  },
  {
   "cell_type": "code",
   "execution_count": 48,
   "metadata": {},
   "outputs": [],
   "source": [
    "tr = VAEClassTrainer(model_gnn, 1e-3, device='cpu')"
   ]
  },
  {
   "cell_type": "code",
   "execution_count": 55,
   "metadata": {},
   "outputs": [],
   "source": [
    "feat = next(iter(train_dl))[0]"
   ]
  },
  {
   "cell_type": "code",
   "execution_count": 64,
   "metadata": {},
   "outputs": [
    {
     "data": {
      "text/plain": [
       "tensor(nan, grad_fn=<MulBackward0>)"
      ]
     },
     "execution_count": 64,
     "metadata": {},
     "output_type": "execute_result"
    }
   ],
   "source": [
    "model_gnn(**feat)[1]."
   ]
  },
  {
   "cell_type": "code",
   "execution_count": 43,
   "metadata": {},
   "outputs": [],
   "source": [
    "feat = DS_r.cfn(DS_r[:256])[0]\n",
    "out = model_gnn(**feat)\n",
    "#for k,v in DS_r.cfn([DS_r[0], DS_r[1]])[0].items():\n",
    "#    print(k,v)"
   ]
  },
  {
   "cell_type": "code",
   "execution_count": 69,
   "metadata": {},
   "outputs": [
    {
     "data": {
      "text/plain": [
       "dict_keys(['years', 'precursor_comp'])"
      ]
     },
     "execution_count": 69,
     "metadata": {},
     "output_type": "execute_result"
    }
   ],
   "source": [
    "import gzip, pickle\n",
    "with gzip.open('../data/unique_precursor.pkl.gz','rb') as f:\n",
    "    prec = pickle.load(f)\n",
    "prec[0].keys()"
   ]
  }
 ],
 "metadata": {
  "kernelspec": {
   "display_name": "isyn2",
   "language": "python",
   "name": "python3"
  },
  "language_info": {
   "codemirror_mode": {
    "name": "ipython",
    "version": 3
   },
   "file_extension": ".py",
   "mimetype": "text/x-python",
   "name": "python",
   "nbconvert_exporter": "python",
   "pygments_lexer": "ipython3",
   "version": "3.9.19"
  }
 },
 "nbformat": 4,
 "nbformat_minor": 2
}
