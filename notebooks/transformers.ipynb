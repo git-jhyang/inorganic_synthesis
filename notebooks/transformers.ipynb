{
 "cells": [
  {
   "cell_type": "code",
   "execution_count": null,
   "metadata": {},
   "outputs": [],
   "source": [
    "import sys\n",
    "sys.path.append('..')\n",
    "from src.networks import BaseNetwork\n",
    "import torch\n",
    "import torch_geometric as pyg"
   ]
  },
  {
   "cell_type": "code",
   "execution_count": 22,
   "metadata": {},
   "outputs": [
    {
     "name": "stdout",
     "output_type": "stream",
     "text": [
      "torch.Size([4, 10, 12]) torch.Size([4, 44]) torch.Size([4, 7, 32])\n",
      "torch.Size([4, 10, 56])\n",
      "torch.Size([4, 10, 32]) torch.Size([4, 7, 32])\n",
      "torch.Size([7, 4, 32])\n"
     ]
    },
    {
     "data": {
      "text/plain": [
       "torch.Size([4, 7, 100])"
      ]
     },
     "execution_count": 22,
     "metadata": {},
     "output_type": "execute_result"
    }
   ],
   "source": [
    "import torch\n",
    "\n",
    "\n",
    "class TransformerDecoder(torch.nn.Module):\n",
    "    def __init__(self, latent_dim, context_dim, hidden_dim, output_dim, n_heads, n_layers):\n",
    "        super().__init__()\n",
    "        self.embedding = torch.nn.Sequential(\n",
    "            torch.nn.Linear(latent_dim + context_dim, hidden_dim),\n",
    "            torch.nn.Dropout(0.3),\n",
    "            torch.nn.LeakyReLU(0.1)\n",
    "        )\n",
    "#        self.decoder = torch.nn.TransformerDecoder(\n",
    "#            torch.nn.TransformerDecoderLayer(\n",
    "#                hidden_dim, n_heads, dim_feedforward=hidden_dim * 4\n",
    "#            ), n_layers\n",
    "#        )\n",
    "        self.decoder = torch.nn.TransformerDecoderLayer(\n",
    "            d_model=hidden_dim, nhead=n_heads, dim_feedforward=hidden_dim * 4\n",
    "        )\n",
    "        self.output = torch.nn.Linear(hidden_dim, output_dim)\n",
    "\n",
    "    def forward(self, z, context, target_seq):\n",
    "        n_batch, n_seq, _ = z.shape\n",
    "        c = torch.concat([z, context.unsqueeze(1).repeat((1, n_seq, 1))], dim=-1)\n",
    "        print(z.shape, context.shape, target_seq.shape)\n",
    "        print(c.shape)\n",
    "        mem = self.embedding(c)\n",
    "        print(mem.shape, target_seq.shape)\n",
    "        out = self.decoder(target_seq.transpose(0,1), mem.transpose(0,1))\n",
    "        print(out.shape)\n",
    "        return self.output(out.transpose(0,1))\n",
    "\n",
    "dec = TransformerDecoder(\n",
    "    latent_dim=12, context_dim=44, hidden_dim=32, output_dim=100, n_heads=8, n_layers=4\n",
    ")\n",
    "z = torch.rand((4,10,12))\n",
    "context = torch.rand((4, 44))\n",
    "target = torch.tensor([\n",
    "    [0, 4, 5, 2, 8, 0, 0],\n",
    "    [0, 2, 4, 7, 3, 0, 0],\n",
    "    [0, 1, 8, 6, 3, 4, 0],\n",
    "    [0, 1, 5, 0, 0, 0, 0]\n",
    "]).long()\n",
    "\n",
    "target_dict = torch.tensor([\n",
    "    [0],\n",
    "    [1],\n",
    "    [2],\n",
    "    [3],\n",
    "    [4],\n",
    "    [5],\n",
    "    [6],\n",
    "    [7],\n",
    "    [8],\n",
    "    [9],\n",
    "]).repeat((1, 32)).float()\n",
    "\n",
    "target_vec = target_dict[target]\n",
    "\n",
    "o = dec(z, context, target_vec)\n",
    "o.argmax()\n"
   ]
  },
  {
   "cell_type": "code",
   "execution_count": 29,
   "metadata": {},
   "outputs": [
    {
     "data": {
      "text/plain": [
       "tensor([[0., -inf, -inf, -inf, -inf, -inf, -inf],\n",
       "        [0., 0., -inf, -inf, -inf, -inf, -inf],\n",
       "        [0., 0., 0., -inf, -inf, -inf, -inf],\n",
       "        [0., 0., 0., 0., -inf, -inf, -inf],\n",
       "        [0., 0., 0., 0., 0., -inf, -inf],\n",
       "        [0., 0., 0., 0., 0., 0., -inf],\n",
       "        [0., 0., 0., 0., 0., 0., 0.]])"
      ]
     },
     "execution_count": 29,
     "metadata": {},
     "output_type": "execute_result"
    }
   ],
   "source": [
    "torch.nn.Transformer.generate_square_subsequent_mask(7)"
   ]
  }
 ],
 "metadata": {
  "kernelspec": {
   "display_name": "isyn2",
   "language": "python",
   "name": "python3"
  },
  "language_info": {
   "codemirror_mode": {
    "name": "ipython",
    "version": 3
   },
   "file_extension": ".py",
   "mimetype": "text/x-python",
   "name": "python",
   "nbconvert_exporter": "python",
   "pygments_lexer": "ipython3",
   "version": "3.9.19"
  }
 },
 "nbformat": 4,
 "nbformat_minor": 2
}
